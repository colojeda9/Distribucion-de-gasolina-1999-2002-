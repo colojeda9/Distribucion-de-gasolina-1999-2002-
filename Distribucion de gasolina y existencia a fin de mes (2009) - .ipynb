{
 "cells": [
  {
   "cell_type": "code",
   "execution_count": 58,
   "id": "9d8dd5ea",
   "metadata": {},
   "outputs": [],
   "source": [
    "import pandas as pd\n",
    "import numpy as np\n",
    "import matplotlib.pyplot as plt\n",
    "from sklearn.model_selection import train_test_split\n",
    "import tensorflow as tf\n",
    "import seaborn as sns"
   ]
  },
  {
   "cell_type": "markdown",
   "id": "f176b1a8",
   "metadata": {},
   "source": [
    "# Resumen y analisis exploratorio \n",
    "* **Provincias con mas distribucion entre los años 1999 - 2002**\n",
    "\n",
    "1-Neuquen.\n",
    "\n",
    "2-Salta.\n",
    "\n",
    "3-Tierra del fuego\n",
    "\n",
    "----\n",
    "\n",
    "* **Año en cual se distribuyo mas fue entre el 2000 y 2001**\n",
    "----\n",
    "\n",
    "* **Mes en que se distribuyo mas (teniendo en cuenta todos los años)**\n",
    "\n",
    "1- Enero\n",
    "\n",
    "2- Septiembre\n",
    "\n",
    "3- Mayo\n",
    "\n",
    "----\n",
    "\n",
    "* **La provincia con el pico MAXIMO en deistribucion (cantidad) es SALTA - AGUARAGÜE**"
   ]
  },
  {
   "cell_type": "code",
   "execution_count": 92,
   "id": "8dbea0ab",
   "metadata": {},
   "outputs": [
    {
     "data": {
      "text/html": [
       "<div>\n",
       "<style scoped>\n",
       "    .dataframe tbody tr th:only-of-type {\n",
       "        vertical-align: middle;\n",
       "    }\n",
       "\n",
       "    .dataframe tbody tr th {\n",
       "        vertical-align: top;\n",
       "    }\n",
       "\n",
       "    .dataframe thead th {\n",
       "        text-align: right;\n",
       "    }\n",
       "</style>\n",
       "<table border=\"1\" class=\"dataframe\">\n",
       "  <thead>\n",
       "    <tr style=\"text-align: right;\">\n",
       "      <th></th>\n",
       "      <th>anio</th>\n",
       "      <th>mes</th>\n",
       "      <th>provincia</th>\n",
       "      <th>permisoconcesion</th>\n",
       "      <th>concepto</th>\n",
       "      <th>cantidad</th>\n",
       "      <th>fecha_data</th>\n",
       "    </tr>\n",
       "  </thead>\n",
       "  <tbody>\n",
       "    <tr>\n",
       "      <th>0</th>\n",
       "      <td>1999</td>\n",
       "      <td>1</td>\n",
       "      <td>CHUBUT</td>\n",
       "      <td>CERRO NEGRO [CHUBUT]</td>\n",
       "      <td>Mercado Interno - Combustible</td>\n",
       "      <td>0.0</td>\n",
       "      <td>1999-01-31</td>\n",
       "    </tr>\n",
       "    <tr>\n",
       "      <th>1</th>\n",
       "      <td>1999</td>\n",
       "      <td>1</td>\n",
       "      <td>CHUBUT</td>\n",
       "      <td>PAMPA DEL CASTILLO-LA GUITARRA</td>\n",
       "      <td>Mezclada con Crudo - Venta Interna</td>\n",
       "      <td>0.0</td>\n",
       "      <td>1999-01-31</td>\n",
       "    </tr>\n",
       "    <tr>\n",
       "      <th>2</th>\n",
       "      <td>1999</td>\n",
       "      <td>1</td>\n",
       "      <td>CHUBUT</td>\n",
       "      <td>CERRO NEGRO [CHUBUT]</td>\n",
       "      <td>Mezclada con Crudo - Venta Interna</td>\n",
       "      <td>0.0</td>\n",
       "      <td>1999-01-31</td>\n",
       "    </tr>\n",
       "    <tr>\n",
       "      <th>3</th>\n",
       "      <td>1999</td>\n",
       "      <td>1</td>\n",
       "      <td>CHUBUT</td>\n",
       "      <td>CERRO NEGRO [CHUBUT]</td>\n",
       "      <td>Mezclada con Crudo - Exportado</td>\n",
       "      <td>0.0</td>\n",
       "      <td>1999-01-31</td>\n",
       "    </tr>\n",
       "    <tr>\n",
       "      <th>4</th>\n",
       "      <td>1999</td>\n",
       "      <td>1</td>\n",
       "      <td>CHUBUT</td>\n",
       "      <td>CERRO NEGRO [CHUBUT]</td>\n",
       "      <td>Exportaciones</td>\n",
       "      <td>0.0</td>\n",
       "      <td>1999-01-31</td>\n",
       "    </tr>\n",
       "    <tr>\n",
       "      <th>5</th>\n",
       "      <td>1999</td>\n",
       "      <td>1</td>\n",
       "      <td>CHUBUT</td>\n",
       "      <td>ANTICLINAL FUNES</td>\n",
       "      <td>Mercado Interno - Combustible</td>\n",
       "      <td>0.0</td>\n",
       "      <td>1999-01-31</td>\n",
       "    </tr>\n",
       "    <tr>\n",
       "      <th>6</th>\n",
       "      <td>1999</td>\n",
       "      <td>1</td>\n",
       "      <td>CHUBUT</td>\n",
       "      <td>ANTICLINAL FUNES</td>\n",
       "      <td>Mercado Interno -No Combustible</td>\n",
       "      <td>0.0</td>\n",
       "      <td>1999-01-31</td>\n",
       "    </tr>\n",
       "    <tr>\n",
       "      <th>7</th>\n",
       "      <td>1999</td>\n",
       "      <td>1</td>\n",
       "      <td>CHUBUT</td>\n",
       "      <td>ANTICLINAL FUNES</td>\n",
       "      <td>Mezclada con Crudo - Venta Interna</td>\n",
       "      <td>0.0</td>\n",
       "      <td>1999-01-31</td>\n",
       "    </tr>\n",
       "    <tr>\n",
       "      <th>8</th>\n",
       "      <td>1999</td>\n",
       "      <td>1</td>\n",
       "      <td>CHUBUT</td>\n",
       "      <td>ANTICLINAL FUNES</td>\n",
       "      <td>Mezclada con Crudo - Exportado</td>\n",
       "      <td>0.0</td>\n",
       "      <td>1999-01-31</td>\n",
       "    </tr>\n",
       "    <tr>\n",
       "      <th>9</th>\n",
       "      <td>1999</td>\n",
       "      <td>1</td>\n",
       "      <td>CHUBUT</td>\n",
       "      <td>DIADEMA</td>\n",
       "      <td>Mezclada con Crudo - Venta Interna</td>\n",
       "      <td>0.0</td>\n",
       "      <td>1999-01-31</td>\n",
       "    </tr>\n",
       "  </tbody>\n",
       "</table>\n",
       "</div>"
      ],
      "text/plain": [
       "   anio  mes provincia                permisoconcesion  \\\n",
       "0  1999    1    CHUBUT            CERRO NEGRO [CHUBUT]   \n",
       "1  1999    1    CHUBUT  PAMPA DEL CASTILLO-LA GUITARRA   \n",
       "2  1999    1    CHUBUT            CERRO NEGRO [CHUBUT]   \n",
       "3  1999    1    CHUBUT            CERRO NEGRO [CHUBUT]   \n",
       "4  1999    1    CHUBUT            CERRO NEGRO [CHUBUT]   \n",
       "5  1999    1    CHUBUT                ANTICLINAL FUNES   \n",
       "6  1999    1    CHUBUT                ANTICLINAL FUNES   \n",
       "7  1999    1    CHUBUT                ANTICLINAL FUNES   \n",
       "8  1999    1    CHUBUT                ANTICLINAL FUNES   \n",
       "9  1999    1    CHUBUT                         DIADEMA   \n",
       "\n",
       "                             concepto  cantidad  fecha_data  \n",
       "0       Mercado Interno - Combustible       0.0  1999-01-31  \n",
       "1  Mezclada con Crudo - Venta Interna       0.0  1999-01-31  \n",
       "2  Mezclada con Crudo - Venta Interna       0.0  1999-01-31  \n",
       "3      Mezclada con Crudo - Exportado       0.0  1999-01-31  \n",
       "4                       Exportaciones       0.0  1999-01-31  \n",
       "5       Mercado Interno - Combustible       0.0  1999-01-31  \n",
       "6     Mercado Interno -No Combustible       0.0  1999-01-31  \n",
       "7  Mezclada con Crudo - Venta Interna       0.0  1999-01-31  \n",
       "8      Mezclada con Crudo - Exportado       0.0  1999-01-31  \n",
       "9  Mezclada con Crudo - Venta Interna       0.0  1999-01-31  "
      ]
     },
     "execution_count": 92,
     "metadata": {},
     "output_type": "execute_result"
    }
   ],
   "source": [
    "data = pd.read_csv(\"../MisPracticas/Datasets/distribucion-de-gasolina-y-existencias-a-fin-de-mes-ant-2009.csv\")\n",
    "data.head(10)\n",
    "# 1999 - 2002"
   ]
  },
  {
   "cell_type": "code",
   "execution_count": 44,
   "id": "05768195",
   "metadata": {},
   "outputs": [
    {
     "data": {
      "text/plain": [
       "(18505, 7)"
      ]
     },
     "execution_count": 44,
     "metadata": {},
     "output_type": "execute_result"
    }
   ],
   "source": [
    "data.shape"
   ]
  },
  {
   "cell_type": "code",
   "execution_count": 10,
   "id": "a99aa730",
   "metadata": {},
   "outputs": [
    {
     "data": {
      "text/plain": [
       "anio                  int64\n",
       "mes                   int64\n",
       "provincia            object\n",
       "permisoconcesion     object\n",
       "concepto             object\n",
       "cantidad            float64\n",
       "fecha_data           object\n",
       "dtype: object"
      ]
     },
     "execution_count": 10,
     "metadata": {},
     "output_type": "execute_result"
    }
   ],
   "source": [
    "data.dtypes"
   ]
  },
  {
   "cell_type": "code",
   "execution_count": 15,
   "id": "1c5d5035",
   "metadata": {},
   "outputs": [
    {
     "data": {
      "text/plain": [
       "provincia\n",
       "CHUBUT                  0.013975\n",
       "FORMOSA                 0.000000\n",
       "JUJUY                   0.001603\n",
       "LA PAMPA                0.015326\n",
       "MENDOZA                 0.000000\n",
       "NC (ESTADO NACIONAL)    0.004107\n",
       "NEUQUÉN                 0.265805\n",
       "RÍO NEGRO               0.023352\n",
       "SALTA                   0.161397\n",
       "SANTA CRUZ              0.026320\n",
       "TIERRA DEL FUEGO        0.069962\n",
       "Name: cantidad, dtype: float64"
      ]
     },
     "execution_count": 15,
     "metadata": {},
     "output_type": "execute_result"
    }
   ],
   "source": [
    "datagrouped=(data.groupby(by=['provincia']).sum(\"cantidad\"))\n",
    "datagrouped.cantidad\n",
    "dfM=dfgrouped.cantidad/1000000\n",
    "dfM"
   ]
  },
  {
   "cell_type": "markdown",
   "id": "e3b9354b",
   "metadata": {},
   "source": [
    "* la información relevante para nuestra empresa, cantidad de distribucion a cada provincia que contenga nuestro DF"
   ]
  },
  {
   "cell_type": "code",
   "execution_count": 18,
   "id": "49111186",
   "metadata": {},
   "outputs": [
    {
     "data": {
      "text/html": [
       "<div>\n",
       "<style scoped>\n",
       "    .dataframe tbody tr th:only-of-type {\n",
       "        vertical-align: middle;\n",
       "    }\n",
       "\n",
       "    .dataframe tbody tr th {\n",
       "        vertical-align: top;\n",
       "    }\n",
       "\n",
       "    .dataframe thead th {\n",
       "        text-align: right;\n",
       "    }\n",
       "</style>\n",
       "<table border=\"1\" class=\"dataframe\">\n",
       "  <thead>\n",
       "    <tr style=\"text-align: right;\">\n",
       "      <th></th>\n",
       "      <th>provincia</th>\n",
       "      <th>cantidad</th>\n",
       "    </tr>\n",
       "  </thead>\n",
       "  <tbody>\n",
       "    <tr>\n",
       "      <th>0</th>\n",
       "      <td>CHUBUT</td>\n",
       "      <td>0.013975</td>\n",
       "    </tr>\n",
       "    <tr>\n",
       "      <th>1</th>\n",
       "      <td>FORMOSA</td>\n",
       "      <td>0.000000</td>\n",
       "    </tr>\n",
       "    <tr>\n",
       "      <th>2</th>\n",
       "      <td>JUJUY</td>\n",
       "      <td>0.001603</td>\n",
       "    </tr>\n",
       "    <tr>\n",
       "      <th>3</th>\n",
       "      <td>LA PAMPA</td>\n",
       "      <td>0.015326</td>\n",
       "    </tr>\n",
       "    <tr>\n",
       "      <th>4</th>\n",
       "      <td>MENDOZA</td>\n",
       "      <td>0.000000</td>\n",
       "    </tr>\n",
       "    <tr>\n",
       "      <th>5</th>\n",
       "      <td>NC (ESTADO NACIONAL)</td>\n",
       "      <td>0.004107</td>\n",
       "    </tr>\n",
       "    <tr>\n",
       "      <th>6</th>\n",
       "      <td>NEUQUÉN</td>\n",
       "      <td>0.265805</td>\n",
       "    </tr>\n",
       "    <tr>\n",
       "      <th>7</th>\n",
       "      <td>RÍO NEGRO</td>\n",
       "      <td>0.023352</td>\n",
       "    </tr>\n",
       "    <tr>\n",
       "      <th>8</th>\n",
       "      <td>SALTA</td>\n",
       "      <td>0.161397</td>\n",
       "    </tr>\n",
       "    <tr>\n",
       "      <th>9</th>\n",
       "      <td>SANTA CRUZ</td>\n",
       "      <td>0.026320</td>\n",
       "    </tr>\n",
       "    <tr>\n",
       "      <th>10</th>\n",
       "      <td>TIERRA DEL FUEGO</td>\n",
       "      <td>0.069962</td>\n",
       "    </tr>\n",
       "  </tbody>\n",
       "</table>\n",
       "</div>"
      ],
      "text/plain": [
       "               provincia  cantidad\n",
       "0                 CHUBUT  0.013975\n",
       "1                FORMOSA  0.000000\n",
       "2                  JUJUY  0.001603\n",
       "3               LA PAMPA  0.015326\n",
       "4                MENDOZA  0.000000\n",
       "5   NC (ESTADO NACIONAL)  0.004107\n",
       "6                NEUQUÉN  0.265805\n",
       "7              RÍO NEGRO  0.023352\n",
       "8                  SALTA  0.161397\n",
       "9             SANTA CRUZ  0.026320\n",
       "10      TIERRA DEL FUEGO  0.069962"
      ]
     },
     "execution_count": 18,
     "metadata": {},
     "output_type": "execute_result"
    }
   ],
   "source": [
    "dfM2=pd.DataFrame(dfM).reset_index()\n",
    "dfM2"
   ]
  },
  {
   "cell_type": "code",
   "execution_count": 40,
   "id": "20bb564d",
   "metadata": {},
   "outputs": [
    {
     "data": {
      "text/plain": [
       "array(['Mercado Interno - Combustible',\n",
       "       'Mezclada con Crudo - Venta Interna',\n",
       "       'Mezclada con Crudo - Exportado', 'Exportaciones',\n",
       "       'Mercado Interno -No Combustible'], dtype=object)"
      ]
     },
     "execution_count": 40,
     "metadata": {},
     "output_type": "execute_result"
    }
   ],
   "source": [
    "pd.unique(data['concepto'])"
   ]
  },
  {
   "cell_type": "code",
   "execution_count": 60,
   "id": "dd952fe5",
   "metadata": {},
   "outputs": [
    {
     "data": {
      "text/plain": [
       "<AxesSubplot:xlabel='mes', ylabel='cantidad'>"
      ]
     },
     "execution_count": 60,
     "metadata": {},
     "output_type": "execute_result"
    },
    {
     "data": {
      "image/png": "[encoded data removed]",
      "text/plain": [
       "<Figure size 640x480 with 1 Axes>"
      ]
     },
     "metadata": {},
     "output_type": "display_data"
    }
   ],
   "source": [
    "sns.boxplot(x=\"mes\", y=\"cantidad\", data=data)"
   ]
  },
  {
   "cell_type": "markdown",
   "id": "62f2df1f",
   "metadata": {},
   "source": [
    "* Los meses que mas se movio en cantidad"
   ]
  },
  {
   "cell_type": "code",
   "execution_count": 93,
   "id": "862ab44f",
   "metadata": {},
   "outputs": [
    {
     "data": {
      "text/plain": [
       "Text(0.5, 1.0, 'el mes que mas cantidad se movio')"
      ]
     },
     "execution_count": 93,
     "metadata": {},
     "output_type": "execute_result"
    },
    {
     "data": {
      "image/png": "[encoded data removed]",
      "text/plain": [
       "<Figure size 1600x1100 with 1 Axes>"
      ]
     },
     "metadata": {},
     "output_type": "display_data"
    },
    {
     "data": {
      "image/png": "[encoded data removed]",
      "text/plain": [
       "<Figure size 640x480 with 1 Axes>"
      ]
     },
     "metadata": {},
     "output_type": "display_data"
    }
   ],
   "source": [
    "\n",
    "data.plot(x=\"anio\", y=\"cantidad\", figsize=(16,11))\n",
    "plt.title(\"Cantidad que mas se movio en el año\")\n",
    "\n",
    "data.plot(kind=\"scatter\" , x=\"mes\", y=\"cantidad\")\n",
    "plt.title(\"el mes que mas cantidad se movio\")"
   ]
  },
  {
   "cell_type": "code",
   "execution_count": 59,
   "id": "918ede31",
   "metadata": {},
   "outputs": [
    {
     "name": "stderr",
     "output_type": "stream",
     "text": [
      "C:\\Users\\Acer\\AppData\\Local\\Temp\\ipykernel_16408\\2627137660.py:1: FutureWarning: The default value of numeric_only in DataFrame.corr is deprecated. In a future version, it will default to False. Select only valid columns or specify the value of numeric_only to silence this warning.\n",
      "  data.corr()\n"
     ]
    },
    {
     "data": {
      "text/html": [
       "<div>\n",
       "<style scoped>\n",
       "    .dataframe tbody tr th:only-of-type {\n",
       "        vertical-align: middle;\n",
       "    }\n",
       "\n",
       "    .dataframe tbody tr th {\n",
       "        vertical-align: top;\n",
       "    }\n",
       "\n",
       "    .dataframe thead th {\n",
       "        text-align: right;\n",
       "    }\n",
       "</style>\n",
       "<table border=\"1\" class=\"dataframe\">\n",
       "  <thead>\n",
       "    <tr style=\"text-align: right;\">\n",
       "      <th></th>\n",
       "      <th>anio</th>\n",
       "      <th>mes</th>\n",
       "      <th>cantidad</th>\n",
       "    </tr>\n",
       "  </thead>\n",
       "  <tbody>\n",
       "    <tr>\n",
       "      <th>anio</th>\n",
       "      <td>1.000000</td>\n",
       "      <td>-0.261603</td>\n",
       "      <td>0.038871</td>\n",
       "    </tr>\n",
       "    <tr>\n",
       "      <th>mes</th>\n",
       "      <td>-0.261603</td>\n",
       "      <td>1.000000</td>\n",
       "      <td>-0.001120</td>\n",
       "    </tr>\n",
       "    <tr>\n",
       "      <th>cantidad</th>\n",
       "      <td>0.038871</td>\n",
       "      <td>-0.001120</td>\n",
       "      <td>1.000000</td>\n",
       "    </tr>\n",
       "  </tbody>\n",
       "</table>\n",
       "</div>"
      ],
      "text/plain": [
       "              anio       mes  cantidad\n",
       "anio      1.000000 -0.261603  0.038871\n",
       "mes      -0.261603  1.000000 -0.001120\n",
       "cantidad  0.038871 -0.001120  1.000000"
      ]
     },
     "execution_count": 59,
     "metadata": {},
     "output_type": "execute_result"
    }
   ],
   "source": [
    "data.corr()"
   ]
  },
  {
   "cell_type": "code",
   "execution_count": 84,
   "id": "819354d0",
   "metadata": {},
   "outputs": [
    {
     "data": {
      "text/html": [
       "<div>\n",
       "<style scoped>\n",
       "    .dataframe tbody tr th:only-of-type {\n",
       "        vertical-align: middle;\n",
       "    }\n",
       "\n",
       "    .dataframe tbody tr th {\n",
       "        vertical-align: top;\n",
       "    }\n",
       "\n",
       "    .dataframe thead th {\n",
       "        text-align: right;\n",
       "    }\n",
       "</style>\n",
       "<table border=\"1\" class=\"dataframe\">\n",
       "  <thead>\n",
       "    <tr style=\"text-align: right;\">\n",
       "      <th></th>\n",
       "      <th>anio</th>\n",
       "      <th>mes</th>\n",
       "      <th>cantidad</th>\n",
       "    </tr>\n",
       "  </thead>\n",
       "  <tbody>\n",
       "    <tr>\n",
       "      <th>count</th>\n",
       "      <td>18505.000000</td>\n",
       "      <td>18505.000000</td>\n",
       "      <td>18504.000000</td>\n",
       "    </tr>\n",
       "    <tr>\n",
       "      <th>mean</th>\n",
       "      <td>1999.935693</td>\n",
       "      <td>5.956228</td>\n",
       "      <td>31.444389</td>\n",
       "    </tr>\n",
       "    <tr>\n",
       "      <th>std</th>\n",
       "      <td>0.835065</td>\n",
       "      <td>3.378540</td>\n",
       "      <td>352.126422</td>\n",
       "    </tr>\n",
       "    <tr>\n",
       "      <th>min</th>\n",
       "      <td>1999.000000</td>\n",
       "      <td>1.000000</td>\n",
       "      <td>0.000000</td>\n",
       "    </tr>\n",
       "    <tr>\n",
       "      <th>25%</th>\n",
       "      <td>1999.000000</td>\n",
       "      <td>3.000000</td>\n",
       "      <td>0.000000</td>\n",
       "    </tr>\n",
       "    <tr>\n",
       "      <th>50%</th>\n",
       "      <td>2000.000000</td>\n",
       "      <td>6.000000</td>\n",
       "      <td>0.000000</td>\n",
       "    </tr>\n",
       "    <tr>\n",
       "      <th>75%</th>\n",
       "      <td>2001.000000</td>\n",
       "      <td>9.000000</td>\n",
       "      <td>0.000000</td>\n",
       "    </tr>\n",
       "    <tr>\n",
       "      <th>max</th>\n",
       "      <td>2002.000000</td>\n",
       "      <td>12.000000</td>\n",
       "      <td>9729.000000</td>\n",
       "    </tr>\n",
       "  </tbody>\n",
       "</table>\n",
       "</div>"
      ],
      "text/plain": [
       "               anio           mes      cantidad\n",
       "count  18505.000000  18505.000000  18504.000000\n",
       "mean    1999.935693      5.956228     31.444389\n",
       "std        0.835065      3.378540    352.126422\n",
       "min     1999.000000      1.000000      0.000000\n",
       "25%     1999.000000      3.000000      0.000000\n",
       "50%     2000.000000      6.000000      0.000000\n",
       "75%     2001.000000      9.000000      0.000000\n",
       "max     2002.000000     12.000000   9729.000000"
      ]
     },
     "execution_count": 84,
     "metadata": {},
     "output_type": "execute_result"
    }
   ],
   "source": [
    "data.describe() "
   ]
  },
  {
   "cell_type": "code",
   "execution_count": 98,
   "id": "0dab8fff",
   "metadata": {},
   "outputs": [
    {
     "data": {
      "text/plain": [
       "mes\n",
       "1     0.074104\n",
       "2     0.038791\n",
       "3     0.052958\n",
       "4     0.045076\n",
       "5     0.058529\n",
       "6     0.055135\n",
       "7     0.057521\n",
       "8     0.052711\n",
       "9     0.062296\n",
       "10    0.027038\n",
       "11    0.020934\n",
       "12    0.036754\n",
       "Name: cantidad, dtype: float64"
      ]
     },
     "execution_count": 98,
     "metadata": {},
     "output_type": "execute_result"
    }
   ],
   "source": [
    "datagrouped1=(data.groupby(by=['mes']).sum(\"cantidad\"))\n",
    "datagrouped1.cantidad\n",
    "dfMes=datagrouped1.cantidad/1000000\n",
    "dfMes"
   ]
  },
  {
   "cell_type": "code",
   "execution_count": 103,
   "id": "b6f8c57f",
   "metadata": {},
   "outputs": [
    {
     "data": {
      "text/plain": [
       "581846.9674724"
      ]
     },
     "execution_count": 103,
     "metadata": {},
     "output_type": "execute_result"
    }
   ],
   "source": [
    "data.sum().cantidad"
   ]
  },
  {
   "cell_type": "code",
   "execution_count": 284,
   "id": "a13b817e",
   "metadata": {},
   "outputs": [
    {
     "data": {
      "text/html": [
       "<div>\n",
       "<style scoped>\n",
       "    .dataframe tbody tr th:only-of-type {\n",
       "        vertical-align: middle;\n",
       "    }\n",
       "\n",
       "    .dataframe tbody tr th {\n",
       "        vertical-align: top;\n",
       "    }\n",
       "\n",
       "    .dataframe thead th {\n",
       "        text-align: right;\n",
       "    }\n",
       "</style>\n",
       "<table border=\"1\" class=\"dataframe\">\n",
       "  <thead>\n",
       "    <tr style=\"text-align: right;\">\n",
       "      <th></th>\n",
       "      <th>anio</th>\n",
       "      <th>mes</th>\n",
       "      <th>provincia</th>\n",
       "      <th>permisoconcesion</th>\n",
       "      <th>concepto</th>\n",
       "      <th>cantidad</th>\n",
       "      <th>fecha_data</th>\n",
       "      <th>is_train</th>\n",
       "    </tr>\n",
       "  </thead>\n",
       "  <tbody>\n",
       "    <tr>\n",
       "      <th>238</th>\n",
       "      <td>1999</td>\n",
       "      <td>1</td>\n",
       "      <td>NEUQUÉN</td>\n",
       "      <td>RIO NEUQUEN</td>\n",
       "      <td>Mezclada con Crudo - Venta Interna</td>\n",
       "      <td>2592.70</td>\n",
       "      <td>1999-01-31</td>\n",
       "      <td>1</td>\n",
       "    </tr>\n",
       "    <tr>\n",
       "      <th>265</th>\n",
       "      <td>1999</td>\n",
       "      <td>1</td>\n",
       "      <td>NEUQUÉN</td>\n",
       "      <td>SIERRA CHATA [CHIHUIDOLS]</td>\n",
       "      <td>Exportaciones</td>\n",
       "      <td>3509.00</td>\n",
       "      <td>1999-01-31</td>\n",
       "      <td>0</td>\n",
       "    </tr>\n",
       "    <tr>\n",
       "      <th>803</th>\n",
       "      <td>1999</td>\n",
       "      <td>2</td>\n",
       "      <td>NEUQUÉN</td>\n",
       "      <td>SIERRA CHATA [CHIHUIDOLS]</td>\n",
       "      <td>Exportaciones</td>\n",
       "      <td>3957.00</td>\n",
       "      <td>1999-02-28</td>\n",
       "      <td>1</td>\n",
       "    </tr>\n",
       "    <tr>\n",
       "      <th>834</th>\n",
       "      <td>1999</td>\n",
       "      <td>2</td>\n",
       "      <td>NEUQUÉN</td>\n",
       "      <td>RIO NEUQUEN</td>\n",
       "      <td>Mezclada con Crudo - Venta Interna</td>\n",
       "      <td>2399.70</td>\n",
       "      <td>1999-02-28</td>\n",
       "      <td>0</td>\n",
       "    </tr>\n",
       "    <tr>\n",
       "      <th>1311</th>\n",
       "      <td>1999</td>\n",
       "      <td>3</td>\n",
       "      <td>NEUQUÉN</td>\n",
       "      <td>SIERRA CHATA [CHIHUIDOLS]</td>\n",
       "      <td>Mercado Interno -No Combustible</td>\n",
       "      <td>4823.00</td>\n",
       "      <td>1999-03-31</td>\n",
       "      <td>1</td>\n",
       "    </tr>\n",
       "    <tr>\n",
       "      <th>1314</th>\n",
       "      <td>1999</td>\n",
       "      <td>3</td>\n",
       "      <td>NEUQUÉN</td>\n",
       "      <td>SIERRA CHATA [CHIHUIDOLS]</td>\n",
       "      <td>Exportaciones</td>\n",
       "      <td>1110.00</td>\n",
       "      <td>1999-03-31</td>\n",
       "      <td>1</td>\n",
       "    </tr>\n",
       "    <tr>\n",
       "      <th>1317</th>\n",
       "      <td>1999</td>\n",
       "      <td>3</td>\n",
       "      <td>NEUQUÉN</td>\n",
       "      <td>RIO NEUQUEN</td>\n",
       "      <td>Mezclada con Crudo - Venta Interna</td>\n",
       "      <td>3041.68</td>\n",
       "      <td>1999-03-31</td>\n",
       "      <td>0</td>\n",
       "    </tr>\n",
       "    <tr>\n",
       "      <th>1811</th>\n",
       "      <td>1999</td>\n",
       "      <td>4</td>\n",
       "      <td>NEUQUÉN</td>\n",
       "      <td>RIO NEUQUEN</td>\n",
       "      <td>Mezclada con Crudo - Venta Interna</td>\n",
       "      <td>2428.29</td>\n",
       "      <td>1999-04-30</td>\n",
       "      <td>1</td>\n",
       "    </tr>\n",
       "    <tr>\n",
       "      <th>2462</th>\n",
       "      <td>1999</td>\n",
       "      <td>5</td>\n",
       "      <td>NEUQUÉN</td>\n",
       "      <td>RIO NEUQUEN</td>\n",
       "      <td>Mezclada con Crudo - Venta Interna</td>\n",
       "      <td>2228.99</td>\n",
       "      <td>1999-05-31</td>\n",
       "      <td>0</td>\n",
       "    </tr>\n",
       "    <tr>\n",
       "      <th>2581</th>\n",
       "      <td>1999</td>\n",
       "      <td>5</td>\n",
       "      <td>SANTA CRUZ</td>\n",
       "      <td>FARO VIRGENES</td>\n",
       "      <td>Mezclada con Crudo - Venta Interna</td>\n",
       "      <td>1144.00</td>\n",
       "      <td>1999-05-31</td>\n",
       "      <td>1</td>\n",
       "    </tr>\n",
       "  </tbody>\n",
       "</table>\n",
       "</div>"
      ],
      "text/plain": [
       "      anio  mes   provincia           permisoconcesion  \\\n",
       "238   1999    1     NEUQUÉN                RIO NEUQUEN   \n",
       "265   1999    1     NEUQUÉN  SIERRA CHATA [CHIHUIDOLS]   \n",
       "803   1999    2     NEUQUÉN  SIERRA CHATA [CHIHUIDOLS]   \n",
       "834   1999    2     NEUQUÉN                RIO NEUQUEN   \n",
       "1311  1999    3     NEUQUÉN  SIERRA CHATA [CHIHUIDOLS]   \n",
       "1314  1999    3     NEUQUÉN  SIERRA CHATA [CHIHUIDOLS]   \n",
       "1317  1999    3     NEUQUÉN                RIO NEUQUEN   \n",
       "1811  1999    4     NEUQUÉN                RIO NEUQUEN   \n",
       "2462  1999    5     NEUQUÉN                RIO NEUQUEN   \n",
       "2581  1999    5  SANTA CRUZ              FARO VIRGENES   \n",
       "\n",
       "                                concepto  cantidad  fecha_data  is_train  \n",
       "238   Mezclada con Crudo - Venta Interna   2592.70  1999-01-31         1  \n",
       "265                        Exportaciones   3509.00  1999-01-31         0  \n",
       "803                        Exportaciones   3957.00  1999-02-28         1  \n",
       "834   Mezclada con Crudo - Venta Interna   2399.70  1999-02-28         0  \n",
       "1311     Mercado Interno -No Combustible   4823.00  1999-03-31         1  \n",
       "1314                       Exportaciones   1110.00  1999-03-31         1  \n",
       "1317  Mezclada con Crudo - Venta Interna   3041.68  1999-03-31         0  \n",
       "1811  Mezclada con Crudo - Venta Interna   2428.29  1999-04-30         1  \n",
       "2462  Mezclada con Crudo - Venta Interna   2228.99  1999-05-31         0  \n",
       "2581  Mezclada con Crudo - Venta Interna   1144.00  1999-05-31         1  "
      ]
     },
     "execution_count": 284,
     "metadata": {},
     "output_type": "execute_result"
    }
   ],
   "source": [
    "data1 = data[data[\"cantidad\"] > 850]\n",
    "data1.head(10)"
   ]
  },
  {
   "cell_type": "markdown",
   "id": "0a6fe0a0",
   "metadata": {},
   "source": [
    "# CORRELACION  (cantidad y mes)"
   ]
  },
  {
   "cell_type": "code",
   "execution_count": 166,
   "id": "dcef7211",
   "metadata": {},
   "outputs": [],
   "source": [
    "from sklearn.model_selection import train_test_split\n",
    "import sklearn\n",
    "from sklearn.tree import DecisionTreeClassifier"
   ]
  },
  {
   "cell_type": "code",
   "execution_count": 157,
   "id": "b4b4675c",
   "metadata": {},
   "outputs": [
    {
     "name": "stderr",
     "output_type": "stream",
     "text": [
      "C:\\Users\\Acer\\AppData\\Local\\Temp\\ipykernel_16408\\3303974150.py:1: FutureWarning: The default value of numeric_only in DataFrame.cov is deprecated. In a future version, it will default to False. Select only valid columns or specify the value of numeric_only to silence this warning.\n",
      "  data_cov = data.cov()\n"
     ]
    },
    {
     "data": {
      "text/plain": [
       "-1.3325731793481888"
      ]
     },
     "execution_count": 157,
     "metadata": {},
     "output_type": "execute_result"
    }
   ],
   "source": [
    "data_cov = data.cov()\n",
    "data_cov.loc[\"cantidad\",\"mes\"]"
   ]
  },
  {
   "cell_type": "code",
   "execution_count": 158,
   "id": "5f6a27b0",
   "metadata": {},
   "outputs": [
    {
     "name": "stdout",
     "output_type": "stream",
     "text": [
      "es una relacion casi Negativa por que el coeficiente de correlacion es = -0.001120117001332832\n"
     ]
    }
   ],
   "source": [
    "data_cant_cov = -1.3325731793481888\n",
    "cant_std=352.126422\n",
    "mes_std=3.378540\n",
    "\n",
    "print(\"es una relacion casi Negativa por que el coeficiente de correlacion es =\",data_cant_cov / (cant_std * mes_std))\n"
   ]
  },
  {
   "cell_type": "code",
   "execution_count": 179,
   "id": "8d9bf233",
   "metadata": {},
   "outputs": [
    {
     "data": {
      "text/html": [
       "<div>\n",
       "<style scoped>\n",
       "    .dataframe tbody tr th:only-of-type {\n",
       "        vertical-align: middle;\n",
       "    }\n",
       "\n",
       "    .dataframe tbody tr th {\n",
       "        vertical-align: top;\n",
       "    }\n",
       "\n",
       "    .dataframe thead th {\n",
       "        text-align: right;\n",
       "    }\n",
       "</style>\n",
       "<table border=\"1\" class=\"dataframe\">\n",
       "  <thead>\n",
       "    <tr style=\"text-align: right;\">\n",
       "      <th></th>\n",
       "      <th>anio</th>\n",
       "      <th>mes</th>\n",
       "      <th>provincia</th>\n",
       "      <th>permisoconcesion</th>\n",
       "      <th>concepto</th>\n",
       "      <th>cantidad</th>\n",
       "      <th>fecha_data</th>\n",
       "      <th>is_train</th>\n",
       "    </tr>\n",
       "  </thead>\n",
       "  <tbody>\n",
       "    <tr>\n",
       "      <th>238</th>\n",
       "      <td>1999</td>\n",
       "      <td>1</td>\n",
       "      <td>NEUQUÉN</td>\n",
       "      <td>RIO NEUQUEN</td>\n",
       "      <td>Mezclada con Crudo - Venta Interna</td>\n",
       "      <td>2592.700</td>\n",
       "      <td>1999-01-31</td>\n",
       "      <td>1</td>\n",
       "    </tr>\n",
       "    <tr>\n",
       "      <th>265</th>\n",
       "      <td>1999</td>\n",
       "      <td>1</td>\n",
       "      <td>NEUQUÉN</td>\n",
       "      <td>SIERRA CHATA [CHIHUIDOLS]</td>\n",
       "      <td>Exportaciones</td>\n",
       "      <td>3509.000</td>\n",
       "      <td>1999-01-31</td>\n",
       "      <td>0</td>\n",
       "    </tr>\n",
       "    <tr>\n",
       "      <th>268</th>\n",
       "      <td>1999</td>\n",
       "      <td>1</td>\n",
       "      <td>NEUQUÉN</td>\n",
       "      <td>BAJADA DEL PALO</td>\n",
       "      <td>Mezclada con Crudo - Venta Interna</td>\n",
       "      <td>20.000</td>\n",
       "      <td>1999-01-31</td>\n",
       "      <td>1</td>\n",
       "    </tr>\n",
       "    <tr>\n",
       "      <th>293</th>\n",
       "      <td>1999</td>\n",
       "      <td>1</td>\n",
       "      <td>NEUQUÉN</td>\n",
       "      <td>AGUADA DE LA ARENA (AÑELO)</td>\n",
       "      <td>Mezclada con Crudo - Venta Interna</td>\n",
       "      <td>262.460</td>\n",
       "      <td>1999-01-31</td>\n",
       "      <td>0</td>\n",
       "    </tr>\n",
       "    <tr>\n",
       "      <th>318</th>\n",
       "      <td>1999</td>\n",
       "      <td>1</td>\n",
       "      <td>RÍO NEGRO</td>\n",
       "      <td>RIO NEUQUEN</td>\n",
       "      <td>Mezclada con Crudo - Venta Interna</td>\n",
       "      <td>666.100</td>\n",
       "      <td>1999-01-31</td>\n",
       "      <td>1</td>\n",
       "    </tr>\n",
       "    <tr>\n",
       "      <th>...</th>\n",
       "      <td>...</td>\n",
       "      <td>...</td>\n",
       "      <td>...</td>\n",
       "      <td>...</td>\n",
       "      <td>...</td>\n",
       "      <td>...</td>\n",
       "      <td>...</td>\n",
       "      <td>...</td>\n",
       "    </tr>\n",
       "    <tr>\n",
       "      <th>18400</th>\n",
       "      <td>2002</td>\n",
       "      <td>1</td>\n",
       "      <td>RÍO NEGRO</td>\n",
       "      <td>AGUA SALADA</td>\n",
       "      <td>Mezclada con Crudo - Venta Interna</td>\n",
       "      <td>631.900</td>\n",
       "      <td>2002-01-31</td>\n",
       "      <td>1</td>\n",
       "    </tr>\n",
       "    <tr>\n",
       "      <th>18424</th>\n",
       "      <td>2002</td>\n",
       "      <td>1</td>\n",
       "      <td>SALTA</td>\n",
       "      <td>AGUARAGÜE</td>\n",
       "      <td>Mezclada con Crudo - Venta Interna</td>\n",
       "      <td>9179.000</td>\n",
       "      <td>2002-01-31</td>\n",
       "      <td>1</td>\n",
       "    </tr>\n",
       "    <tr>\n",
       "      <th>18475</th>\n",
       "      <td>2002</td>\n",
       "      <td>1</td>\n",
       "      <td>SANTA CRUZ</td>\n",
       "      <td>FARO VIRGENES</td>\n",
       "      <td>Mezclada con Crudo - Venta Interna</td>\n",
       "      <td>481.000</td>\n",
       "      <td>2002-01-31</td>\n",
       "      <td>1</td>\n",
       "    </tr>\n",
       "    <tr>\n",
       "      <th>18487</th>\n",
       "      <td>2002</td>\n",
       "      <td>1</td>\n",
       "      <td>TIERRA DEL FUEGO</td>\n",
       "      <td>CUENCA MARINA AUSTRAL 1</td>\n",
       "      <td>Mezclada con Crudo - Venta Interna</td>\n",
       "      <td>3443.883</td>\n",
       "      <td>2002-01-31</td>\n",
       "      <td>1</td>\n",
       "    </tr>\n",
       "    <tr>\n",
       "      <th>18491</th>\n",
       "      <td>2002</td>\n",
       "      <td>1</td>\n",
       "      <td>TIERRA DEL FUEGO</td>\n",
       "      <td>CUENCA MARINA AUSTRAL 1</td>\n",
       "      <td>Mezclada con Crudo - Exportado</td>\n",
       "      <td>1095.905</td>\n",
       "      <td>2002-01-31</td>\n",
       "      <td>1</td>\n",
       "    </tr>\n",
       "  </tbody>\n",
       "</table>\n",
       "<p>376 rows × 8 columns</p>\n",
       "</div>"
      ],
      "text/plain": [
       "       anio  mes         provincia            permisoconcesion  \\\n",
       "238    1999    1           NEUQUÉN                 RIO NEUQUEN   \n",
       "265    1999    1           NEUQUÉN   SIERRA CHATA [CHIHUIDOLS]   \n",
       "268    1999    1           NEUQUÉN             BAJADA DEL PALO   \n",
       "293    1999    1           NEUQUÉN  AGUADA DE LA ARENA (AÑELO)   \n",
       "318    1999    1         RÍO NEGRO                 RIO NEUQUEN   \n",
       "...     ...  ...               ...                         ...   \n",
       "18400  2002    1         RÍO NEGRO                 AGUA SALADA   \n",
       "18424  2002    1             SALTA                   AGUARAGÜE   \n",
       "18475  2002    1        SANTA CRUZ               FARO VIRGENES   \n",
       "18487  2002    1  TIERRA DEL FUEGO     CUENCA MARINA AUSTRAL 1   \n",
       "18491  2002    1  TIERRA DEL FUEGO     CUENCA MARINA AUSTRAL 1   \n",
       "\n",
       "                                 concepto  cantidad  fecha_data  is_train  \n",
       "238    Mezclada con Crudo - Venta Interna  2592.700  1999-01-31         1  \n",
       "265                         Exportaciones  3509.000  1999-01-31         0  \n",
       "268    Mezclada con Crudo - Venta Interna    20.000  1999-01-31         1  \n",
       "293    Mezclada con Crudo - Venta Interna   262.460  1999-01-31         0  \n",
       "318    Mezclada con Crudo - Venta Interna   666.100  1999-01-31         1  \n",
       "...                                   ...       ...         ...       ...  \n",
       "18400  Mezclada con Crudo - Venta Interna   631.900  2002-01-31         1  \n",
       "18424  Mezclada con Crudo - Venta Interna  9179.000  2002-01-31         1  \n",
       "18475  Mezclada con Crudo - Venta Interna   481.000  2002-01-31         1  \n",
       "18487  Mezclada con Crudo - Venta Interna  3443.883  2002-01-31         1  \n",
       "18491      Mezclada con Crudo - Exportado  1095.905  2002-01-31         1  \n",
       "\n",
       "[376 rows x 8 columns]"
      ]
     },
     "execution_count": 179,
     "metadata": {},
     "output_type": "execute_result"
    }
   ],
   "source": [
    "data_cant = data[data[\"cantidad\"] > 1]\n",
    "data_cant"
   ]
  },
  {
   "cell_type": "markdown",
   "id": "063a88b4",
   "metadata": {},
   "source": [
    "# Creamos un arbol de decision para la distribucion de gasolina"
   ]
  },
  {
   "cell_type": "code",
   "execution_count": 180,
   "id": "3e57449a",
   "metadata": {},
   "outputs": [
    {
     "data": {
      "text/plain": [
       "(array([257.,   0.,  10.,   0.,   0.,  68.,   0.,  38.,   0.,   3.]),\n",
       " array([0. , 0.4, 0.8, 1.2, 1.6, 2. , 2.4, 2.8, 3.2, 3.6, 4. ]),\n",
       " <BarContainer object of 10 artists>)"
      ]
     },
     "execution_count": 180,
     "metadata": {},
     "output_type": "execute_result"
    },
    {
     "data": {
      "image/png": "[encoded data removed]",
      "text/plain": [
       "<Figure size 640x480 with 1 Axes>"
      ]
     },
     "metadata": {},
     "output_type": "display_data"
    }
   ],
   "source": [
    "plt.hist(data_cant.concepto)"
   ]
  },
  {
   "cell_type": "code",
   "execution_count": 181,
   "id": "55121c7c",
   "metadata": {},
   "outputs": [
    {
     "data": {
      "text/plain": [
       "array(['Mezclada con Crudo - Venta Interna', 'Exportaciones',\n",
       "       'Mercado Interno -No Combustible',\n",
       "       'Mezclada con Crudo - Exportado', 'Mercado Interno - Combustible'],\n",
       "      dtype=object)"
      ]
     },
     "execution_count": 181,
     "metadata": {},
     "output_type": "execute_result"
    }
   ],
   "source": [
    "data_cant.concepto.unique()"
   ]
  },
  {
   "cell_type": "code",
   "execution_count": 195,
   "id": "e22665ed",
   "metadata": {},
   "outputs": [
    {
     "name": "stdout",
     "output_type": "stream",
     "text": [
      "cantidad concepto\n"
     ]
    }
   ],
   "source": [
    "colnames = data_cant.columns.values.tolist()\n",
    "predictor = colnames[5]\n",
    "target = colnames[4]\n",
    "print(predictor,target)"
   ]
  },
  {
   "cell_type": "code",
   "execution_count": 184,
   "id": "5e60c2cf",
   "metadata": {
    "scrolled": true
   },
   "outputs": [
    {
     "name": "stderr",
     "output_type": "stream",
     "text": [
      "C:\\Users\\Acer\\AppData\\Local\\Temp\\ipykernel_16408\\2540900009.py:1: SettingWithCopyWarning: \n",
      "A value is trying to be set on a copy of a slice from a DataFrame.\n",
      "Try using .loc[row_indexer,col_indexer] = value instead\n",
      "\n",
      "See the caveats in the documentation: https://pandas.pydata.org/pandas-docs/stable/user_guide/indexing.html#returning-a-view-versus-a-copy\n",
      "  data_cant[\"is_train\"] = (np.random.uniform(0,1,len(data_cant))<=0.75).astype(int)\n"
     ]
    },
    {
     "data": {
      "text/plain": [
       "(array([ 91.,   0.,   0.,   0.,   0.,   0.,   0.,   0.,   0., 285.]),\n",
       " array([0. , 0.1, 0.2, 0.3, 0.4, 0.5, 0.6, 0.7, 0.8, 0.9, 1. ]),\n",
       " <BarContainer object of 10 artists>)"
      ]
     },
     "execution_count": 184,
     "metadata": {},
     "output_type": "execute_result"
    },
    {
     "data": {
      "image/png": "[encoded data removed]",
      "text/plain": [
       "<Figure size 640x480 with 1 Axes>"
      ]
     },
     "metadata": {},
     "output_type": "display_data"
    }
   ],
   "source": [
    "data_cant[\"is_train\"] = (np.random.uniform(0,1,len(data_cant))<=0.75).astype(int)\n",
    "plt.hist(data_cant.is_train)"
   ]
  },
  {
   "cell_type": "code",
   "execution_count": 185,
   "id": "f5209711",
   "metadata": {},
   "outputs": [],
   "source": [
    "train , test = data_cant[data_cant[\"is_train\"]==True], data_cant[data_cant[\"is_train\"]==False]"
   ]
  },
  {
   "cell_type": "code",
   "execution_count": 207,
   "id": "3e4c34be",
   "metadata": {},
   "outputs": [
    {
     "data": {
      "text/html": [
       "<style>#sk-container-id-3 {color: black;background-color: white;}#sk-container-id-3 pre{padding: 0;}#sk-container-id-3 div.sk-toggleable {background-color: white;}#sk-container-id-3 label.sk-toggleable__label {cursor: pointer;display: block;width: 100%;margin-bottom: 0;padding: 0.3em;box-sizing: border-box;text-align: center;}#sk-container-id-3 label.sk-toggleable__label-arrow:before {content: \"▸\";float: left;margin-right: 0.25em;color: #696969;}#sk-container-id-3 label.sk-toggleable__label-arrow:hover:before {color: black;}#sk-container-id-3 div.sk-estimator:hover label.sk-toggleable__label-arrow:before {color: black;}#sk-container-id-3 div.sk-toggleable__content {max-height: 0;max-width: 0;overflow: hidden;text-align: left;background-color: #f0f8ff;}#sk-container-id-3 div.sk-toggleable__content pre {margin: 0.2em;color: black;border-radius: 0.25em;background-color: #f0f8ff;}#sk-container-id-3 input.sk-toggleable__control:checked~div.sk-toggleable__content {max-height: 200px;max-width: 100%;overflow: auto;}#sk-container-id-3 input.sk-toggleable__control:checked~label.sk-toggleable__label-arrow:before {content: \"▾\";}#sk-container-id-3 div.sk-estimator input.sk-toggleable__control:checked~label.sk-toggleable__label {background-color: #d4ebff;}#sk-container-id-3 div.sk-label input.sk-toggleable__control:checked~label.sk-toggleable__label {background-color: #d4ebff;}#sk-container-id-3 input.sk-hidden--visually {border: 0;clip: rect(1px 1px 1px 1px);clip: rect(1px, 1px, 1px, 1px);height: 1px;margin: -1px;overflow: hidden;padding: 0;position: absolute;width: 1px;}#sk-container-id-3 div.sk-estimator {font-family: monospace;background-color: #f0f8ff;border: 1px dotted black;border-radius: 0.25em;box-sizing: border-box;margin-bottom: 0.5em;}#sk-container-id-3 div.sk-estimator:hover {background-color: #d4ebff;}#sk-container-id-3 div.sk-parallel-item::after {content: \"\";width: 100%;border-bottom: 1px solid gray;flex-grow: 1;}#sk-container-id-3 div.sk-label:hover label.sk-toggleable__label {background-color: #d4ebff;}#sk-container-id-3 div.sk-serial::before {content: \"\";position: absolute;border-left: 1px solid gray;box-sizing: border-box;top: 0;bottom: 0;left: 50%;z-index: 0;}#sk-container-id-3 div.sk-serial {display: flex;flex-direction: column;align-items: center;background-color: white;padding-right: 0.2em;padding-left: 0.2em;position: relative;}#sk-container-id-3 div.sk-item {position: relative;z-index: 1;}#sk-container-id-3 div.sk-parallel {display: flex;align-items: stretch;justify-content: center;background-color: white;position: relative;}#sk-container-id-3 div.sk-item::before, #sk-container-id-3 div.sk-parallel-item::before {content: \"\";position: absolute;border-left: 1px solid gray;box-sizing: border-box;top: 0;bottom: 0;left: 50%;z-index: -1;}#sk-container-id-3 div.sk-parallel-item {display: flex;flex-direction: column;z-index: 1;position: relative;background-color: white;}#sk-container-id-3 div.sk-parallel-item:first-child::after {align-self: flex-end;width: 50%;}#sk-container-id-3 div.sk-parallel-item:last-child::after {align-self: flex-start;width: 50%;}#sk-container-id-3 div.sk-parallel-item:only-child::after {width: 0;}#sk-container-id-3 div.sk-dashed-wrapped {border: 1px dashed gray;margin: 0 0.4em 0.5em 0.4em;box-sizing: border-box;padding-bottom: 0.4em;background-color: white;}#sk-container-id-3 div.sk-label label {font-family: monospace;font-weight: bold;display: inline-block;line-height: 1.2em;}#sk-container-id-3 div.sk-label-container {text-align: center;}#sk-container-id-3 div.sk-container {/* jupyter's `normalize.less` sets `[hidden] { display: none; }` but bootstrap.min.css set `[hidden] { display: none !important; }` so we also need the `!important` here to be able to override the default hidden behavior on the sphinx rendered scikit-learn.org. See: https://github.com/scikit-learn/scikit-learn/issues/21755 */display: inline-block !important;position: relative;}#sk-container-id-3 div.sk-text-repr-fallback {display: none;}</style><div id=\"sk-container-id-3\" class=\"sk-top-container\"><div class=\"sk-text-repr-fallback\"><pre>DecisionTreeClassifier(criterion=&#x27;entropy&#x27;, min_samples_split=15,\n",
       "                       random_state=99)</pre><b>In a Jupyter environment, please rerun this cell to show the HTML representation or trust the notebook. <br />On GitHub, the HTML representation is unable to render, please try loading this page with nbviewer.org.</b></div><div class=\"sk-container\" hidden><div class=\"sk-item\"><div class=\"sk-estimator sk-toggleable\"><input class=\"sk-toggleable__control sk-hidden--visually\" id=\"sk-estimator-id-3\" type=\"checkbox\" checked><label for=\"sk-estimator-id-3\" class=\"sk-toggleable__label sk-toggleable__label-arrow\">DecisionTreeClassifier</label><div class=\"sk-toggleable__content\"><pre>DecisionTreeClassifier(criterion=&#x27;entropy&#x27;, min_samples_split=15,\n",
       "                       random_state=99)</pre></div></div></div></div></div>"
      ],
      "text/plain": [
       "DecisionTreeClassifier(criterion='entropy', min_samples_split=15,\n",
       "                       random_state=99)"
      ]
     },
     "execution_count": 207,
     "metadata": {},
     "output_type": "execute_result"
    }
   ],
   "source": [
    "#Creamos el arbol de decision \n",
    "tree = DecisionTreeClassifier(criterion=\"entropy\", min_samples_split=15 , random_state= 99)\n",
    "#cree un fit con las variables predictoras \"train\" & el objetivo que esta en la variable \"Target\"\n",
    "tree.fit(train[[predictor]],train[[target]])"
   ]
  },
  {
   "cell_type": "code",
   "execution_count": 209,
   "id": "4f0f77e6",
   "metadata": {},
   "outputs": [],
   "source": [
    "preds = tree.predict(test[[predictor]])"
   ]
  },
  {
   "cell_type": "code",
   "execution_count": 211,
   "id": "0d2eaf6e",
   "metadata": {},
   "outputs": [
    {
     "data": {
      "text/html": [
       "<div>\n",
       "<style scoped>\n",
       "    .dataframe tbody tr th:only-of-type {\n",
       "        vertical-align: middle;\n",
       "    }\n",
       "\n",
       "    .dataframe tbody tr th {\n",
       "        vertical-align: top;\n",
       "    }\n",
       "\n",
       "    .dataframe thead th {\n",
       "        text-align: right;\n",
       "    }\n",
       "</style>\n",
       "<table border=\"1\" class=\"dataframe\">\n",
       "  <thead>\n",
       "    <tr style=\"text-align: right;\">\n",
       "      <th>Predictions</th>\n",
       "      <th>Mercado Interno -No Combustible</th>\n",
       "      <th>Mezclada con Crudo - Exportado</th>\n",
       "      <th>Mezclada con Crudo - Venta Interna</th>\n",
       "    </tr>\n",
       "    <tr>\n",
       "      <th>Actual</th>\n",
       "      <th></th>\n",
       "      <th></th>\n",
       "      <th></th>\n",
       "    </tr>\n",
       "  </thead>\n",
       "  <tbody>\n",
       "    <tr>\n",
       "      <th>Exportaciones</th>\n",
       "      <td>0</td>\n",
       "      <td>0</td>\n",
       "      <td>1</td>\n",
       "    </tr>\n",
       "    <tr>\n",
       "      <th>Mercado Interno - Combustible</th>\n",
       "      <td>0</td>\n",
       "      <td>0</td>\n",
       "      <td>1</td>\n",
       "    </tr>\n",
       "    <tr>\n",
       "      <th>Mercado Interno -No Combustible</th>\n",
       "      <td>8</td>\n",
       "      <td>1</td>\n",
       "      <td>7</td>\n",
       "    </tr>\n",
       "    <tr>\n",
       "      <th>Mezclada con Crudo - Exportado</th>\n",
       "      <td>2</td>\n",
       "      <td>2</td>\n",
       "      <td>8</td>\n",
       "    </tr>\n",
       "    <tr>\n",
       "      <th>Mezclada con Crudo - Venta Interna</th>\n",
       "      <td>9</td>\n",
       "      <td>2</td>\n",
       "      <td>50</td>\n",
       "    </tr>\n",
       "  </tbody>\n",
       "</table>\n",
       "</div>"
      ],
      "text/plain": [
       "Predictions                         Mercado Interno -No Combustible  \\\n",
       "Actual                                                                \n",
       "Exportaciones                                                     0   \n",
       "Mercado Interno - Combustible                                     0   \n",
       "Mercado Interno -No Combustible                                   8   \n",
       "Mezclada con Crudo - Exportado                                    2   \n",
       "Mezclada con Crudo - Venta Interna                                9   \n",
       "\n",
       "Predictions                         Mezclada con Crudo - Exportado  \\\n",
       "Actual                                                               \n",
       "Exportaciones                                                    0   \n",
       "Mercado Interno - Combustible                                    0   \n",
       "Mercado Interno -No Combustible                                  1   \n",
       "Mezclada con Crudo - Exportado                                   2   \n",
       "Mezclada con Crudo - Venta Interna                               2   \n",
       "\n",
       "Predictions                         Mezclada con Crudo - Venta Interna  \n",
       "Actual                                                                  \n",
       "Exportaciones                                                        1  \n",
       "Mercado Interno - Combustible                                        1  \n",
       "Mercado Interno -No Combustible                                      7  \n",
       "Mezclada con Crudo - Exportado                                       8  \n",
       "Mezclada con Crudo - Venta Interna                                  50  "
      ]
     },
     "execution_count": 211,
     "metadata": {},
     "output_type": "execute_result"
    }
   ],
   "source": [
    "#Creamos una tabla para ver si el resultado de la prediccion usado por el arbol, si concuerda o no\n",
    "pd.crosstab(test[target], preds,rownames=[\"Actual\"], colnames=[\"Predictions\"])"
   ]
  },
  {
   "cell_type": "markdown",
   "id": "b19eb8b8",
   "metadata": {},
   "source": [
    "* Lo que podemos ver que para clasificar el **Mezclado con crudo - venta interna** lo hace muy bien, no sucede lo mismo con los demas conceptos."
   ]
  },
  {
   "cell_type": "code",
   "execution_count": 218,
   "id": "b5ce861f",
   "metadata": {
    "scrolled": true
   },
   "outputs": [
    {
     "data": {
      "text/plain": [
       "82.10526315789474"
      ]
     },
     "execution_count": 218,
     "metadata": {},
     "output_type": "execute_result"
    }
   ],
   "source": [
    "tree.score(train[[predictor]], train[[target]])*100"
   ]
  },
  {
   "cell_type": "markdown",
   "id": "af53c1bd",
   "metadata": {},
   "source": [
    "* Como podemos ver el modelo de **Entrenamiento** tiene un acierto del 82.10% \n",
    "\n",
    "\n",
    "* para jerarquizar los productos de la categoría de manera secuencial fue bueno y tembien puede serlo, vender el Mezclado con crudo en ventas internas"
   ]
  },
  {
   "cell_type": "code",
   "execution_count": 222,
   "id": "717a624e",
   "metadata": {},
   "outputs": [
    {
     "data": {
      "text/plain": [
       "65.93406593406593"
      ]
     },
     "execution_count": 222,
     "metadata": {},
     "output_type": "execute_result"
    }
   ],
   "source": [
    "tree.score(test[[predictor]],test[[target]])*100"
   ]
  },
  {
   "cell_type": "markdown",
   "id": "c3f716ee",
   "metadata": {},
   "source": [
    "* Como vemos no fue bastante bueno el modelo de **Testeo** tiene solamente un acierto del 65.93%"
   ]
  },
  {
   "cell_type": "markdown",
   "id": "ce73ccc5",
   "metadata": {},
   "source": [
    "# Hacemos una validacion cruzada (creamos un nuevo arbol de decision para ver como se porta el modelo)"
   ]
  },
  {
   "cell_type": "code",
   "execution_count": 229,
   "id": "993fe4b1",
   "metadata": {},
   "outputs": [],
   "source": [
    "X = data_cant[[predictor]]\n",
    "\n",
    "Y = data_cant[[target]]"
   ]
  },
  {
   "cell_type": "code",
   "execution_count": 230,
   "id": "03eaa30a",
   "metadata": {},
   "outputs": [
    {
     "data": {
      "text/html": [
       "<style>#sk-container-id-5 {color: black;background-color: white;}#sk-container-id-5 pre{padding: 0;}#sk-container-id-5 div.sk-toggleable {background-color: white;}#sk-container-id-5 label.sk-toggleable__label {cursor: pointer;display: block;width: 100%;margin-bottom: 0;padding: 0.3em;box-sizing: border-box;text-align: center;}#sk-container-id-5 label.sk-toggleable__label-arrow:before {content: \"▸\";float: left;margin-right: 0.25em;color: #696969;}#sk-container-id-5 label.sk-toggleable__label-arrow:hover:before {color: black;}#sk-container-id-5 div.sk-estimator:hover label.sk-toggleable__label-arrow:before {color: black;}#sk-container-id-5 div.sk-toggleable__content {max-height: 0;max-width: 0;overflow: hidden;text-align: left;background-color: #f0f8ff;}#sk-container-id-5 div.sk-toggleable__content pre {margin: 0.2em;color: black;border-radius: 0.25em;background-color: #f0f8ff;}#sk-container-id-5 input.sk-toggleable__control:checked~div.sk-toggleable__content {max-height: 200px;max-width: 100%;overflow: auto;}#sk-container-id-5 input.sk-toggleable__control:checked~label.sk-toggleable__label-arrow:before {content: \"▾\";}#sk-container-id-5 div.sk-estimator input.sk-toggleable__control:checked~label.sk-toggleable__label {background-color: #d4ebff;}#sk-container-id-5 div.sk-label input.sk-toggleable__control:checked~label.sk-toggleable__label {background-color: #d4ebff;}#sk-container-id-5 input.sk-hidden--visually {border: 0;clip: rect(1px 1px 1px 1px);clip: rect(1px, 1px, 1px, 1px);height: 1px;margin: -1px;overflow: hidden;padding: 0;position: absolute;width: 1px;}#sk-container-id-5 div.sk-estimator {font-family: monospace;background-color: #f0f8ff;border: 1px dotted black;border-radius: 0.25em;box-sizing: border-box;margin-bottom: 0.5em;}#sk-container-id-5 div.sk-estimator:hover {background-color: #d4ebff;}#sk-container-id-5 div.sk-parallel-item::after {content: \"\";width: 100%;border-bottom: 1px solid gray;flex-grow: 1;}#sk-container-id-5 div.sk-label:hover label.sk-toggleable__label {background-color: #d4ebff;}#sk-container-id-5 div.sk-serial::before {content: \"\";position: absolute;border-left: 1px solid gray;box-sizing: border-box;top: 0;bottom: 0;left: 50%;z-index: 0;}#sk-container-id-5 div.sk-serial {display: flex;flex-direction: column;align-items: center;background-color: white;padding-right: 0.2em;padding-left: 0.2em;position: relative;}#sk-container-id-5 div.sk-item {position: relative;z-index: 1;}#sk-container-id-5 div.sk-parallel {display: flex;align-items: stretch;justify-content: center;background-color: white;position: relative;}#sk-container-id-5 div.sk-item::before, #sk-container-id-5 div.sk-parallel-item::before {content: \"\";position: absolute;border-left: 1px solid gray;box-sizing: border-box;top: 0;bottom: 0;left: 50%;z-index: -1;}#sk-container-id-5 div.sk-parallel-item {display: flex;flex-direction: column;z-index: 1;position: relative;background-color: white;}#sk-container-id-5 div.sk-parallel-item:first-child::after {align-self: flex-end;width: 50%;}#sk-container-id-5 div.sk-parallel-item:last-child::after {align-self: flex-start;width: 50%;}#sk-container-id-5 div.sk-parallel-item:only-child::after {width: 0;}#sk-container-id-5 div.sk-dashed-wrapped {border: 1px dashed gray;margin: 0 0.4em 0.5em 0.4em;box-sizing: border-box;padding-bottom: 0.4em;background-color: white;}#sk-container-id-5 div.sk-label label {font-family: monospace;font-weight: bold;display: inline-block;line-height: 1.2em;}#sk-container-id-5 div.sk-label-container {text-align: center;}#sk-container-id-5 div.sk-container {/* jupyter's `normalize.less` sets `[hidden] { display: none; }` but bootstrap.min.css set `[hidden] { display: none !important; }` so we also need the `!important` here to be able to override the default hidden behavior on the sphinx rendered scikit-learn.org. See: https://github.com/scikit-learn/scikit-learn/issues/21755 */display: inline-block !important;position: relative;}#sk-container-id-5 div.sk-text-repr-fallback {display: none;}</style><div id=\"sk-container-id-5\" class=\"sk-top-container\"><div class=\"sk-text-repr-fallback\"><pre>DecisionTreeClassifier(criterion=&#x27;entropy&#x27;, max_depth=5, min_samples_split=20,\n",
       "                       random_state=99)</pre><b>In a Jupyter environment, please rerun this cell to show the HTML representation or trust the notebook. <br />On GitHub, the HTML representation is unable to render, please try loading this page with nbviewer.org.</b></div><div class=\"sk-container\" hidden><div class=\"sk-item\"><div class=\"sk-estimator sk-toggleable\"><input class=\"sk-toggleable__control sk-hidden--visually\" id=\"sk-estimator-id-5\" type=\"checkbox\" checked><label for=\"sk-estimator-id-5\" class=\"sk-toggleable__label sk-toggleable__label-arrow\">DecisionTreeClassifier</label><div class=\"sk-toggleable__content\"><pre>DecisionTreeClassifier(criterion=&#x27;entropy&#x27;, max_depth=5, min_samples_split=20,\n",
       "                       random_state=99)</pre></div></div></div></div></div>"
      ],
      "text/plain": [
       "DecisionTreeClassifier(criterion='entropy', max_depth=5, min_samples_split=20,\n",
       "                       random_state=99)"
      ]
     },
     "execution_count": 230,
     "metadata": {},
     "output_type": "execute_result"
    }
   ],
   "source": [
    "tree = DecisionTreeClassifier(criterion=\"entropy\", max_depth=5, min_samples_split=20, random_state=99)\n",
    "tree.fit(X,Y)"
   ]
  },
  {
   "cell_type": "code",
   "execution_count": 262,
   "id": "b45d426e",
   "metadata": {},
   "outputs": [],
   "source": [
    "import sklearn.metrics\n",
    "from sklearn.model_selection import KFold"
   ]
  },
  {
   "cell_type": "code",
   "execution_count": 263,
   "id": "76bfdd23",
   "metadata": {},
   "outputs": [],
   "source": [
    "cv = KFold(n_splits=19,shuffle=True, random_state=1)"
   ]
  },
  {
   "cell_type": "code",
   "execution_count": 265,
   "id": "de2b674e",
   "metadata": {},
   "outputs": [
    {
     "data": {
      "text/plain": [
       "72.85318559556787"
      ]
     },
     "execution_count": 265,
     "metadata": {},
     "output_type": "execute_result"
    }
   ],
   "source": [
    "from sklearn.metrics import accuracy_score\n",
    "from sklearn.model_selection import cross_val_score\n",
    "\n",
    "score = np.mean(cross_val_score(tree,X,Y,scoring=\"accuracy\",cv=cv, n_jobs=1))\n",
    "score*100"
   ]
  },
  {
   "cell_type": "markdown",
   "id": "56fd1138",
   "metadata": {},
   "source": [
    "\n",
    "Hicimos una validacion cruzada de 19 grupos y el score es el **PROMEDIO** de la eficacia obtenida en cada uno de los folds(las divisiones) es un **72.85%**"
   ]
  },
  {
   "cell_type": "code",
   "execution_count": 266,
   "id": "85a6b929",
   "metadata": {},
   "outputs": [
    {
     "data": {
      "text/plain": [
       "array([0.9       , 0.7       , 0.75      , 0.8       , 0.65      ,\n",
       "       0.55      , 0.7       , 0.85      , 0.5       , 0.8       ,\n",
       "       0.75      , 0.85      , 0.75      , 0.65      , 0.8       ,\n",
       "       0.63157895, 0.68421053, 0.73684211, 0.78947368])"
      ]
     },
     "execution_count": 266,
     "metadata": {},
     "output_type": "execute_result"
    }
   ],
   "source": [
    "cross_val_score(tree,X,Y,scoring=\"accuracy\",cv=cv, n_jobs=1)"
   ]
  },
  {
   "cell_type": "markdown",
   "id": "cea2bb05",
   "metadata": {},
   "source": [
    "* Podemos ver que varia mucho la efiacia de las folds (entre 90% y 50%) de acierto"
   ]
  },
  {
   "cell_type": "code",
   "execution_count": 273,
   "id": "9c67ba09",
   "metadata": {},
   "outputs": [
    {
     "name": "stdout",
     "output_type": "stream",
     "text": [
      "score para i = 1 es de  68.33570412517781\n",
      "score para i = 2 es de  68.33570412517781\n",
      "score para i = 3 es de  69.40256045519205\n",
      "score para i = 4 es de  68.60597439544809\n",
      "score para i = 5 es de  71.00284495021337\n",
      "score para i = 6 es de  72.58890469416785\n",
      "score para i = 7 es de  72.85917496443813\n",
      "score para i = 8 es de  72.06258890469417\n",
      "score para i = 9 es de  71.53627311522048\n",
      "score para i = 10 es de  71.26600284495022\n",
      "score para i = 11 es de  71.26600284495022\n",
      "score para i = 12 es de  71.00284495021337\n",
      "score para i = 13 es de  71.00284495021337\n",
      "score para i = 14 es de  71.00284495021337\n"
     ]
    }
   ],
   "source": [
    "#creamos un bucle RANGE desde 1 hasta 1, de uno en uno hasta llegar a 11 veces\n",
    "#Para ver el mejor numero para n_splits\n",
    "\n",
    "for i in range(1,15):\n",
    "    tree = DecisionTreeClassifier(criterion=\"entropy\", max_depth=i, min_samples_split=20, random_state=99)\n",
    "    tree.fit(X,Y) #aca creamos el arbol de X e Y\n",
    "    cv = KFold(n_splits=10,shuffle=True, random_state=1) #usamos el mismo CV\n",
    "    scores=cross_val_score(tree,X,Y,scoring=\"accuracy\",cv=cv, n_jobs=1) #sacamos los valores de SCORES\n",
    "    score=np.mean(scores) #aqui sacamos la media de SCORES\n",
    "    print(\"score para i =\", i , \"es de \",score*100)"
   ]
  },
  {
   "cell_type": "markdown",
   "id": "5a8f9d11",
   "metadata": {},
   "source": [
    "* La mejor opcion es 7 "
   ]
  },
  {
   "cell_type": "markdown",
   "id": "1f83a647",
   "metadata": {},
   "source": [
    "# Haremos un random Forest "
   ]
  },
  {
   "cell_type": "code",
   "execution_count": 277,
   "id": "1eed4772",
   "metadata": {},
   "outputs": [
    {
     "name": "stderr",
     "output_type": "stream",
     "text": [
      "C:\\Users\\Acer\\AppData\\Local\\Temp\\ipykernel_16408\\4080366176.py:4: DataConversionWarning: A column-vector y was passed when a 1d array was expected. Please change the shape of y to (n_samples,), for example using ravel().\n",
      "  forest.fit(X,Y)\n"
     ]
    },
    {
     "data": {
      "text/html": [
       "<style>#sk-container-id-6 {color: black;background-color: white;}#sk-container-id-6 pre{padding: 0;}#sk-container-id-6 div.sk-toggleable {background-color: white;}#sk-container-id-6 label.sk-toggleable__label {cursor: pointer;display: block;width: 100%;margin-bottom: 0;padding: 0.3em;box-sizing: border-box;text-align: center;}#sk-container-id-6 label.sk-toggleable__label-arrow:before {content: \"▸\";float: left;margin-right: 0.25em;color: #696969;}#sk-container-id-6 label.sk-toggleable__label-arrow:hover:before {color: black;}#sk-container-id-6 div.sk-estimator:hover label.sk-toggleable__label-arrow:before {color: black;}#sk-container-id-6 div.sk-toggleable__content {max-height: 0;max-width: 0;overflow: hidden;text-align: left;background-color: #f0f8ff;}#sk-container-id-6 div.sk-toggleable__content pre {margin: 0.2em;color: black;border-radius: 0.25em;background-color: #f0f8ff;}#sk-container-id-6 input.sk-toggleable__control:checked~div.sk-toggleable__content {max-height: 200px;max-width: 100%;overflow: auto;}#sk-container-id-6 input.sk-toggleable__control:checked~label.sk-toggleable__label-arrow:before {content: \"▾\";}#sk-container-id-6 div.sk-estimator input.sk-toggleable__control:checked~label.sk-toggleable__label {background-color: #d4ebff;}#sk-container-id-6 div.sk-label input.sk-toggleable__control:checked~label.sk-toggleable__label {background-color: #d4ebff;}#sk-container-id-6 input.sk-hidden--visually {border: 0;clip: rect(1px 1px 1px 1px);clip: rect(1px, 1px, 1px, 1px);height: 1px;margin: -1px;overflow: hidden;padding: 0;position: absolute;width: 1px;}#sk-container-id-6 div.sk-estimator {font-family: monospace;background-color: #f0f8ff;border: 1px dotted black;border-radius: 0.25em;box-sizing: border-box;margin-bottom: 0.5em;}#sk-container-id-6 div.sk-estimator:hover {background-color: #d4ebff;}#sk-container-id-6 div.sk-parallel-item::after {content: \"\";width: 100%;border-bottom: 1px solid gray;flex-grow: 1;}#sk-container-id-6 div.sk-label:hover label.sk-toggleable__label {background-color: #d4ebff;}#sk-container-id-6 div.sk-serial::before {content: \"\";position: absolute;border-left: 1px solid gray;box-sizing: border-box;top: 0;bottom: 0;left: 50%;z-index: 0;}#sk-container-id-6 div.sk-serial {display: flex;flex-direction: column;align-items: center;background-color: white;padding-right: 0.2em;padding-left: 0.2em;position: relative;}#sk-container-id-6 div.sk-item {position: relative;z-index: 1;}#sk-container-id-6 div.sk-parallel {display: flex;align-items: stretch;justify-content: center;background-color: white;position: relative;}#sk-container-id-6 div.sk-item::before, #sk-container-id-6 div.sk-parallel-item::before {content: \"\";position: absolute;border-left: 1px solid gray;box-sizing: border-box;top: 0;bottom: 0;left: 50%;z-index: -1;}#sk-container-id-6 div.sk-parallel-item {display: flex;flex-direction: column;z-index: 1;position: relative;background-color: white;}#sk-container-id-6 div.sk-parallel-item:first-child::after {align-self: flex-end;width: 50%;}#sk-container-id-6 div.sk-parallel-item:last-child::after {align-self: flex-start;width: 50%;}#sk-container-id-6 div.sk-parallel-item:only-child::after {width: 0;}#sk-container-id-6 div.sk-dashed-wrapped {border: 1px dashed gray;margin: 0 0.4em 0.5em 0.4em;box-sizing: border-box;padding-bottom: 0.4em;background-color: white;}#sk-container-id-6 div.sk-label label {font-family: monospace;font-weight: bold;display: inline-block;line-height: 1.2em;}#sk-container-id-6 div.sk-label-container {text-align: center;}#sk-container-id-6 div.sk-container {/* jupyter's `normalize.less` sets `[hidden] { display: none; }` but bootstrap.min.css set `[hidden] { display: none !important; }` so we also need the `!important` here to be able to override the default hidden behavior on the sphinx rendered scikit-learn.org. See: https://github.com/scikit-learn/scikit-learn/issues/21755 */display: inline-block !important;position: relative;}#sk-container-id-6 div.sk-text-repr-fallback {display: none;}</style><div id=\"sk-container-id-6\" class=\"sk-top-container\"><div class=\"sk-text-repr-fallback\"><pre>RandomForestClassifier(n_jobs=2, oob_score=True)</pre><b>In a Jupyter environment, please rerun this cell to show the HTML representation or trust the notebook. <br />On GitHub, the HTML representation is unable to render, please try loading this page with nbviewer.org.</b></div><div class=\"sk-container\" hidden><div class=\"sk-item\"><div class=\"sk-estimator sk-toggleable\"><input class=\"sk-toggleable__control sk-hidden--visually\" id=\"sk-estimator-id-6\" type=\"checkbox\" checked><label for=\"sk-estimator-id-6\" class=\"sk-toggleable__label sk-toggleable__label-arrow\">RandomForestClassifier</label><div class=\"sk-toggleable__content\"><pre>RandomForestClassifier(n_jobs=2, oob_score=True)</pre></div></div></div></div></div>"
      ],
      "text/plain": [
       "RandomForestClassifier(n_jobs=2, oob_score=True)"
      ]
     },
     "execution_count": 277,
     "metadata": {},
     "output_type": "execute_result"
    }
   ],
   "source": [
    "from sklearn.ensemble import RandomForestClassifier\n",
    "\n",
    "forest = RandomForestClassifier(n_jobs=2 , oob_score=True , n_estimators=100)\n",
    "forest.fit(X,Y)"
   ]
  },
  {
   "cell_type": "code",
   "execution_count": 278,
   "id": "0a6ed9b1",
   "metadata": {},
   "outputs": [
    {
     "data": {
      "text/plain": [
       "array([[0.        , 0.        , 0.        , 0.02777778, 0.97222222],\n",
       "       [0.        , 0.        , 1.        , 0.        , 0.        ],\n",
       "       [0.        , 0.        , 0.        , 0.        , 1.        ],\n",
       "       ...,\n",
       "       [0.        , 0.        , 0.17948718, 0.23076923, 0.58974359],\n",
       "       [0.03846154, 0.        , 0.96153846, 0.        , 0.        ],\n",
       "       [0.02439024, 0.        , 0.        , 0.        , 0.97560976]])"
      ]
     },
     "execution_count": 278,
     "metadata": {},
     "output_type": "execute_result"
    }
   ],
   "source": [
    "forest.oob_decision_function_"
   ]
  },
  {
   "cell_type": "code",
   "execution_count": 279,
   "id": "d668c533",
   "metadata": {},
   "outputs": [
    {
     "data": {
      "text/plain": [
       "0.625"
      ]
     },
     "execution_count": 279,
     "metadata": {},
     "output_type": "execute_result"
    }
   ],
   "source": [
    "forest.oob_score_"
   ]
  },
  {
   "cell_type": "markdown",
   "id": "9becf84f",
   "metadata": {},
   "source": [
    "Obtenemos una precision muy baja de 62.5%. pero podemos ver en el anterior modelo que fue y sera lo que mas se vende u se vendio y tiene mas garantia de venta  **Mezclada con Crudo - Venta Interna.** "
   ]
  },
  {
   "cell_type": "code",
   "execution_count": null,
   "id": "d28c387a",
   "metadata": {},
   "outputs": [],
   "source": []
  }
 ],
 "metadata": {
  "kernelspec": {
   "display_name": "Python 3 (ipykernel)",
   "language": "python",
   "name": "python3"
  },
  "language_info": {
   "codemirror_mode": {
    "name": "ipython",
    "version": 3
   },
   "file_extension": ".py",
   "mimetype": "text/x-python",
   "name": "python",
   "nbconvert_exporter": "python",
   "pygments_lexer": "ipython3",
   "version": "3.8.13"
  }
 },
 "nbformat": 4,
 "nbformat_minor": 5
}
